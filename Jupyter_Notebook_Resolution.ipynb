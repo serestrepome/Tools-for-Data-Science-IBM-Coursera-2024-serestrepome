{
 "cells": [
  {
   "cell_type": "markdown",
   "metadata": {},
   "source": [
    "<center>\n",
    "    <img src=\"https://cf-courses-data.s3.us.cloud-object-storage.appdomain.cloud/IBMDeveloperSkillsNetwork-DS0105EN-SkillsNetwork/labs/Module2/images/SN_web_lightmode.png\" width=\"300\" alt=\"cognitiveclass.ai logo\">\n",
    "</center>\n"
   ]
  },
  {
   "cell_type": "markdown",
   "metadata": {},
   "source": [
    "# Tools for Data Science IBM Coursera 2024\n",
    "\n",
    "You can see this published on: https://github.com/serestrepome/Tools-for-Data-Science-IBM-Coursera-2024-serestrepome"
   ]
  },
  {
   "cell_type": "markdown",
   "metadata": {},
   "source": [
    "## ___Introduction___"
   ]
  },
  {
   "cell_type": "markdown",
   "metadata": {},
   "source": [
    "This notebook purpose it's not just to complete the course and the assigment, the purpose it's practice every module, practice the acknowledge adquire from the readings, videos and labs, also, to share with peers what we learned and check what they learned in order to built constructive knowledge, learnd not just from the teachers and course, we can learn also from others who are taking the course, because we all have different skills and levels of knowledge depending on each field of study, so I take this as a great apportunity to apply what I learn and learn from my peers"
   ]
  },
  {
   "cell_type": "markdown",
   "metadata": {},
   "source": [
    "### Data Science Langueges"
   ]
  },
  {
   "cell_type": "markdown",
   "metadata": {},
   "source": [
    "1. **SQL**: ***Not considered as a program language*** but it's a powerful tool for data science because we need to read, manipulate and analyze data, so how we get that data? the answer is SQL, this tool allow us to built the data with the information that we required stored on a server, with this language we can query data and built the ETL to start working on a poject.\n",
    "\n",
    "2. **Python**: Most popular language for data science because it's simple to undertand it and program on it, also, integrates a lot of libraries with preaty good documentation and powerful characteristics for data analysis, machine learning, plots, statistics and so on.\n",
    "\n",
    "3. **R**: Popular language with powerful tools on the statistic field, allow us to analyze data with statistic without installing other libraries or complements, besides that, it's really good at ploting, have exceptional advange with dinamic plots with libreries like ggplot2.\n",
    "\n",
    "4. **Scala**: Usually associated with machine learning and big data projects due it's great development.\n",
    "\n",
    "5. **Java**: Special language object oriented, people choose it due the great performance and the ecosystem associated with other apps.\n",
    "\n",
    "6. **Julia**: A relative new language in data science, highlights for the great performance associated with mathematics and numerical computation.\n",
    "\n",
    "7. **C++**: Choosen due optimization, strong for computationally intensive task, it's fastest compare with others.\n",
    "\n",
    "8. **JavaScript**: Besides it's usually use on the WEB development are, data scientists use it to integrate the data analysis with data visualization or a easisest way to show and share a project."
   ]
  },
  {
   "cell_type": "markdown",
   "metadata": {},
   "source": [
    "### Data Science Libraries"
   ]
  },
  {
   "cell_type": "markdown",
   "metadata": {},
   "source": [
    "- Pandas\n",
    "- NumPy\n",
    "- SciPy\n",
    "- Matplotlib\n",
    "- Seaborn\n",
    "- Plotly\n",
    "- Scikit-learn\n",
    "- TensorFlow\n",
    "- Keras"
   ]
  },
  {
   "cell_type": "markdown",
   "metadata": {},
   "source": [
    "### Data Science Tools"
   ]
  },
  {
   "cell_type": "markdown",
   "metadata": {},
   "source": [
    "|Tools|Description|\n",
    "|-----|-----|\n",
    "|Data Management Tools|Storage, management and retrieval of data|\n",
    "|Data Integration and Transformation Tools| Streamline data pipelines and automate data processing tasks|\n",
    "|Data Visualization Tools|Provide graphical representation of data and assist with communicating insights|\n",
    "|Code Asset Management Tools|Store & manage code, track changes and allow collaborative development|\n",
    "|Modeling Tools|Enable Building, Deployment, Monitoring and Assessment of Data and Machine Learning models|\n",
    "|Development Environments Tools|Develop, test and deploy code|\n",
    "|Execution Environments Tools|Provide computational resources and run the code|"
   ]
  },
  {
   "cell_type": "markdown",
   "metadata": {},
   "source": [
    "### Arithmetical Expressions Examples"
   ]
  },
  {
   "cell_type": "markdown",
   "metadata": {},
   "source": [
    "- _Addition Operation_: 5+3\n",
    "- _Subtract Operation_: 5-3\n",
    "- _Multiplication Operation_: 5*5\n",
    "- _Division Operation_: 5/2"
   ]
  },
  {
   "cell_type": "markdown",
   "metadata": {},
   "source": [
    "### Code Arithmetical Expressions Examples"
   ]
  },
  {
   "cell_type": "code",
   "execution_count": 21,
   "metadata": {},
   "outputs": [
    {
     "name": "stdout",
     "output_type": "stream",
     "text": [
      "addition: 8\n",
      "multiplication: 25\n"
     ]
    }
   ],
   "source": [
    "# Addition Operation\n",
    "addition = 5+3\n",
    "multiplication = 5*5\n",
    "print('addition:',addition)\n",
    "print('multiplication:',multiplication)"
   ]
  },
  {
   "cell_type": "markdown",
   "metadata": {},
   "source": [
    "### Minutes to Hours Conversion"
   ]
  },
  {
   "cell_type": "code",
   "execution_count": 24,
   "metadata": {},
   "outputs": [
    {
     "name": "stdout",
     "output_type": "stream",
     "text": [
      "120.0 minute/s are 2.0 hour/s\n"
     ]
    }
   ],
   "source": [
    "minutes = input('Please write the minutes that you want to convert to hours')\n",
    "minutes = float(minutes)\n",
    "hour = minutes / 60\n",
    "print(f'{minutes} minute/s are {hour} hour/s')"
   ]
  },
  {
   "cell_type": "markdown",
   "metadata": {},
   "source": [
    "### Objectives\n",
    "\n",
    "- Expose what I leaned on the modules\n",
    "- Explore knew knowlegde to improve what I learned, like the input function and the agregate strings on the print function\n",
    "- Create a notebook to practice and adquire different skills for data science"
   ]
  },
  {
   "cell_type": "markdown",
   "metadata": {},
   "source": [
    "### Author\n",
    "\n",
    "***Sebastian Restrepo Meneses*** \\\n",
    "\\\n",
    "You can see this published on: https://github.com/serestrepome/Tools-for-Data-Science-IBM-Coursera-2024-serestrepome"
   ]
  }
 ],
 "metadata": {
  "kernelspec": {
   "display_name": "Python 3 (ipykernel)",
   "language": "python",
   "name": "python3"
  },
  "language_info": {
   "codemirror_mode": {
    "name": "ipython",
    "version": 3
   },
   "file_extension": ".py",
   "mimetype": "text/x-python",
   "name": "python",
   "nbconvert_exporter": "python",
   "pygments_lexer": "ipython3",
   "version": "3.11.2"
  }
 },
 "nbformat": 4,
 "nbformat_minor": 4
}
